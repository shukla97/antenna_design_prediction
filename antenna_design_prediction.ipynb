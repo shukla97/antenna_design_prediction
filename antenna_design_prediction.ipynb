{
 "cells": [
  {
   "cell_type": "markdown",
   "metadata": {},
   "source": [
    "# Using Neural net to predic multiple output"
   ]
  },
  {
   "cell_type": "code",
   "execution_count": 51,
   "metadata": {},
   "outputs": [],
   "source": [
    "# Loading libraries\n",
    "\n",
    "library(neuralnet)\n",
    "library(caTools)\n",
    "set.seed(100)"
   ]
  },
  {
   "cell_type": "code",
   "execution_count": 52,
   "metadata": {
    "scrolled": true
   },
   "outputs": [
    {
     "data": {
      "text/plain": [
       "     design        epsilon              sh                 w           \n",
       " Min.   : 1.0   Min.   :2.33000   Min.   :1.000000   Min.   :32.15000  \n",
       " 1st Qu.:25.5   1st Qu.:3.00000   1st Qu.:1.240000   1st Qu.:37.12550  \n",
       " Median :50.0   Median :3.00000   Median :1.500000   Median :38.22400  \n",
       " Mean   :50.0   Mean   :3.58404   Mean   :1.502155   Mean   :40.03531  \n",
       " 3rd Qu.:74.5   3rd Qu.:4.60000   3rd Qu.:1.779500   3rd Qu.:43.89400  \n",
       " Max.   :99.0   Max.   :4.60000   Max.   :2.000000   Max.   :46.19400  \n",
       "       l                 fpl                fpw                oof          \n",
       " Min.   :27.68000   Min.   : 9.22670   Min.   :16.07500   Min.   :2253.000  \n",
       " 1st Qu.:29.25200   1st Qu.: 9.74150   1st Qu.:18.56275   1st Qu.:2318.500  \n",
       " Median :34.39900   Median :11.46633   Median :19.11200   Median :2362.000  \n",
       " Mean   :33.66324   Mean   :13.07926   Mean   :20.01765   Mean   :2371.172  \n",
       " 3rd Qu.:36.89900   3rd Qu.:12.29967   3rd Qu.:21.94700   3rd Qu.:2414.500  \n",
       " Max.   :43.00000   Max.   :28.66000   Max.   :23.09700   Max.   :2541.000  \n",
       "       bw                s11            directivity            gain         \n",
       " Min.   :  0.0000   Min.   : 3.42600   Min.   :6.086000   Min.   :0.341000  \n",
       " 1st Qu.:  4.0000   1st Qu.: 3.81350   1st Qu.:6.167000   1st Qu.:1.558000  \n",
       " Median : 78.0000   Median : 6.92700   Median :6.521000   Median :3.306000  \n",
       " Mean   :126.1717   Mean   :17.20267   Mean   :6.467303   Mean   :3.138556  \n",
       " 3rd Qu.:261.0000   3rd Qu.:31.21150   3rd Qu.:6.578500   3rd Qu.:4.702500  \n",
       " Max.   :289.0000   Max.   :59.20400   Max.   :7.905000   Max.   :6.074000  \n",
       "   efficency       \n",
       " Min.   :26.60000  \n",
       " 1st Qu.:34.55000  \n",
       " Median :47.90000  \n",
       " Mean   :49.12222  \n",
       " 3rd Qu.:64.85000  \n",
       " Max.   :79.10000  "
      ]
     },
     "metadata": {},
     "output_type": "display_data"
    }
   ],
   "source": [
    "an <- read.csv(\"new_an.csv\")\n",
    "an <- subset(an, select = -c(X, cof))\n",
    "summary(an)"
   ]
  },
  {
   "cell_type": "code",
   "execution_count": 53,
   "metadata": {},
   "outputs": [
    {
     "data": {
      "text/html": [
       "<ol class=list-inline>\n",
       "\t<li>79</li>\n",
       "\t<li>13</li>\n",
       "</ol>\n"
      ],
      "text/latex": [
       "\\begin{enumerate*}\n",
       "\\item 79\n",
       "\\item 13\n",
       "\\end{enumerate*}\n"
      ],
      "text/markdown": [
       "1. 79\n",
       "2. 13\n",
       "\n",
       "\n"
      ],
      "text/plain": [
       "[1] 79 13"
      ]
     },
     "metadata": {},
     "output_type": "display_data"
    },
    {
     "data": {
      "text/html": [
       "<ol class=list-inline>\n",
       "\t<li>20</li>\n",
       "\t<li>13</li>\n",
       "</ol>\n"
      ],
      "text/latex": [
       "\\begin{enumerate*}\n",
       "\\item 20\n",
       "\\item 13\n",
       "\\end{enumerate*}\n"
      ],
      "text/markdown": [
       "1. 20\n",
       "2. 13\n",
       "\n",
       "\n"
      ],
      "text/plain": [
       "[1] 20 13"
      ]
     },
     "metadata": {},
     "output_type": "display_data"
    }
   ],
   "source": [
    "# Train and test set for cross-check\n",
    "sample <- sample.split(scaled$design, SplitRatio = 0.80)\n",
    "train0 <- subset(an, sample == T)\n",
    "test0 <- subset(an, sample == F)\n",
    "dim(train0)\n",
    "dim(test0)"
   ]
  },
  {
   "cell_type": "code",
   "execution_count": 54,
   "metadata": {
    "collapsed": true
   },
   "outputs": [],
   "source": [
    "# Scaling of data for Neural net\n",
    "\n",
    "max <- apply(an, 2, max)\n",
    "min <- apply(an, 2, min)\n",
    "scaled <- as.data.frame(scale(an, center = min, scale = max - min))"
   ]
  },
  {
   "cell_type": "code",
   "execution_count": 55,
   "metadata": {},
   "outputs": [
    {
     "data": {
      "text/html": [
       "<ol class=list-inline>\n",
       "\t<li>79</li>\n",
       "\t<li>13</li>\n",
       "</ol>\n"
      ],
      "text/latex": [
       "\\begin{enumerate*}\n",
       "\\item 79\n",
       "\\item 13\n",
       "\\end{enumerate*}\n"
      ],
      "text/markdown": [
       "1. 79\n",
       "2. 13\n",
       "\n",
       "\n"
      ],
      "text/plain": [
       "[1] 79 13"
      ]
     },
     "metadata": {},
     "output_type": "display_data"
    },
    {
     "data": {
      "text/html": [
       "<ol class=list-inline>\n",
       "\t<li>20</li>\n",
       "\t<li>13</li>\n",
       "</ol>\n"
      ],
      "text/latex": [
       "\\begin{enumerate*}\n",
       "\\item 20\n",
       "\\item 13\n",
       "\\end{enumerate*}\n"
      ],
      "text/markdown": [
       "1. 20\n",
       "2. 13\n",
       "\n",
       "\n"
      ],
      "text/plain": [
       "[1] 20 13"
      ]
     },
     "metadata": {},
     "output_type": "display_data"
    }
   ],
   "source": [
    "# Preparing training and testing set\n",
    "\n",
    "train <- subset(scaled, sample == T)\n",
    "test <- subset(scaled, sample == F)\n",
    "dim(train)\n",
    "dim(test)"
   ]
  },
  {
   "cell_type": "code",
   "execution_count": 56,
   "metadata": {
    "collapsed": true
   },
   "outputs": [],
   "source": [
    "nn <- neuralnet(s11 + efficency ~ epsilon + sh+ w + l , data = train, hidden = 2, linear.output = T)"
   ]
  },
  {
   "cell_type": "code",
   "execution_count": 57,
   "metadata": {
    "collapsed": true
   },
   "outputs": [],
   "source": [
    "#Predict using Neural Net\n",
    "predict_nn = compute(nn, test[,c(2:5)])"
   ]
  },
  {
   "cell_type": "code",
   "execution_count": 58,
   "metadata": {
    "scrolled": true
   },
   "outputs": [
    {
     "data": {
      "image/png": "[encoded data removed]",
      "text/plain": [
       "plot without title"
      ]
     },
     "metadata": {},
     "output_type": "display_data"
    }
   ],
   "source": [
    "# Unscaling s11 values\n",
    "s11 = (predict_nn$net.result[,1] * (max(an$s11) - min(an$s11))) + min(an$s11)\n",
    "\n",
    "par(mar=c(1,1,1,1))\n",
    "plot(test0$s11, s11, col='blue', pch=16, ylab = \"predicted rating NN\", xlab = \"real rating\")\n",
    "\n",
    "abline(0,1)"
   ]
  },
  {
   "cell_type": "code",
   "execution_count": 59,
   "metadata": {},
   "outputs": [
    {
     "data": {
      "image/png": "[encoded data removed]",
      "text/plain": [
       "plot without title"
      ]
     },
     "metadata": {},
     "output_type": "display_data"
    }
   ],
   "source": [
    "# Unscaling efficency value\n",
    "\n",
    "efficency = (predict_nn$net.result[,2] * (max(an$efficency) - min(an$efficency))) + min(an$efficency)\n",
    "\n",
    "par(mar=c(1,1,1,1))\n",
    "plot(test0$efficency, efficency, col='blue', pch=16, ylab = \"predicted rating NN\", xlab = \"real rating\")\n",
    "\n",
    "abline(0,1)"
   ]
  },
  {
   "cell_type": "code",
   "execution_count": 60,
   "metadata": {},
   "outputs": [
    {
     "data": {
      "text/html": [
       "1.8118967499745"
      ],
      "text/latex": [
       "1.8118967499745"
      ],
      "text/markdown": [
       "1.8118967499745"
      ],
      "text/plain": [
       "[1] 1.81189675"
      ]
     },
     "metadata": {},
     "output_type": "display_data"
    },
    {
     "data": {
      "text/html": [
       "1.46339487386996"
      ],
      "text/latex": [
       "1.46339487386996"
      ],
      "text/markdown": [
       "1.46339487386996"
      ],
      "text/plain": [
       "[1] 1.463394874"
      ]
     },
     "metadata": {},
     "output_type": "display_data"
    }
   ],
   "source": [
    "# Calculate Root Mean Square Error for s11\n",
    "rmse_s11 = (sum((test0$s11 - s11)^2) / nrow(test0)) ^ 0.5\n",
    "\n",
    "rmse_efficency = (sum((test0$efficency - efficency)^2) / nrow(test0)) ^ 0.5\n",
    "rmse_s11\n",
    "rmse_efficency"
   ]
  },
  {
   "cell_type": "code",
   "execution_count": 63,
   "metadata": {},
   "outputs": [
    {
     "data": {
      "text/html": [
       "<table>\n",
       "<thead><tr><th></th><th scope=col>test0.efficency</th><th scope=col>efficency</th></tr></thead>\n",
       "<tbody>\n",
       "\t<tr><th scope=row>7</th><td>32.3       </td><td>31.13144387</td></tr>\n",
       "\t<tr><th scope=row>12</th><td>34.8       </td><td>33.71472374</td></tr>\n",
       "\t<tr><th scope=row>28</th><td>31.9       </td><td>33.30264688</td></tr>\n",
       "\t<tr><th scope=row>32</th><td>34.5       </td><td>35.65800867</td></tr>\n",
       "\t<tr><th scope=row>34</th><td>35.7       </td><td>36.71540407</td></tr>\n",
       "\t<tr><th scope=row>36</th><td>36.8       </td><td>37.78214545</td></tr>\n",
       "\t<tr><th scope=row>39</th><td>38.8       </td><td>39.69581762</td></tr>\n",
       "\t<tr><th scope=row>42</th><td>40.5       </td><td>41.34776447</td></tr>\n",
       "\t<tr><th scope=row>43</th><td>77.1       </td><td>76.38302546</td></tr>\n",
       "\t<tr><th scope=row>44</th><td>70.5       </td><td>70.47774845</td></tr>\n",
       "\t<tr><th scope=row>47</th><td>73.0       </td><td>72.30587243</td></tr>\n",
       "\t<tr><th scope=row>48</th><td>68.1       </td><td>67.60696160</td></tr>\n",
       "\t<tr><th scope=row>63</th><td>64.7       </td><td>62.84676480</td></tr>\n",
       "\t<tr><th scope=row>74</th><td>47.9       </td><td>50.26023676</td></tr>\n",
       "\t<tr><th scope=row>77</th><td>42.9       </td><td>47.36749723</td></tr>\n",
       "\t<tr><th scope=row>79</th><td>52.3       </td><td>52.44920031</td></tr>\n",
       "\t<tr><th scope=row>83</th><td>48.0       </td><td>48.66455188</td></tr>\n",
       "\t<tr><th scope=row>84</th><td>46.9       </td><td>47.70925974</td></tr>\n",
       "\t<tr><th scope=row>91</th><td>62.2       </td><td>62.52481157</td></tr>\n",
       "\t<tr><th scope=row>95</th><td>69.4       </td><td>67.97366880</td></tr>\n",
       "</tbody>\n",
       "</table>\n"
      ],
      "text/latex": [
       "\\begin{tabular}{r|ll}\n",
       "  & test0.efficency & efficency\\\\\n",
       "\\hline\n",
       "\t7 & 32.3        & 31.13144387\\\\\n",
       "\t12 & 34.8        & 33.71472374\\\\\n",
       "\t28 & 31.9        & 33.30264688\\\\\n",
       "\t32 & 34.5        & 35.65800867\\\\\n",
       "\t34 & 35.7        & 36.71540407\\\\\n",
       "\t36 & 36.8        & 37.78214545\\\\\n",
       "\t39 & 38.8        & 39.69581762\\\\\n",
       "\t42 & 40.5        & 41.34776447\\\\\n",
       "\t43 & 77.1        & 76.38302546\\\\\n",
       "\t44 & 70.5        & 70.47774845\\\\\n",
       "\t47 & 73.0        & 72.30587243\\\\\n",
       "\t48 & 68.1        & 67.60696160\\\\\n",
       "\t63 & 64.7        & 62.84676480\\\\\n",
       "\t74 & 47.9        & 50.26023676\\\\\n",
       "\t77 & 42.9        & 47.36749723\\\\\n",
       "\t79 & 52.3        & 52.44920031\\\\\n",
       "\t83 & 48.0        & 48.66455188\\\\\n",
       "\t84 & 46.9        & 47.70925974\\\\\n",
       "\t91 & 62.2        & 62.52481157\\\\\n",
       "\t95 & 69.4        & 67.97366880\\\\\n",
       "\\end{tabular}\n"
      ],
      "text/markdown": [
       "\n",
       "| <!--/--> | test0.efficency | efficency | \n",
       "|---|---|---|---|---|---|---|---|---|---|---|---|---|---|---|---|---|---|---|---|\n",
       "| 7 | 32.3        | 31.13144387 | \n",
       "| 12 | 34.8        | 33.71472374 | \n",
       "| 28 | 31.9        | 33.30264688 | \n",
       "| 32 | 34.5        | 35.65800867 | \n",
       "| 34 | 35.7        | 36.71540407 | \n",
       "| 36 | 36.8        | 37.78214545 | \n",
       "| 39 | 38.8        | 39.69581762 | \n",
       "| 42 | 40.5        | 41.34776447 | \n",
       "| 43 | 77.1        | 76.38302546 | \n",
       "| 44 | 70.5        | 70.47774845 | \n",
       "| 47 | 73.0        | 72.30587243 | \n",
       "| 48 | 68.1        | 67.60696160 | \n",
       "| 63 | 64.7        | 62.84676480 | \n",
       "| 74 | 47.9        | 50.26023676 | \n",
       "| 77 | 42.9        | 47.36749723 | \n",
       "| 79 | 52.3        | 52.44920031 | \n",
       "| 83 | 48.0        | 48.66455188 | \n",
       "| 84 | 46.9        | 47.70925974 | \n",
       "| 91 | 62.2        | 62.52481157 | \n",
       "| 95 | 69.4        | 67.97366880 | \n",
       "\n",
       "\n"
      ],
      "text/plain": [
       "   test0.efficency efficency  \n",
       "7  32.3            31.13144387\n",
       "12 34.8            33.71472374\n",
       "28 31.9            33.30264688\n",
       "32 34.5            35.65800867\n",
       "34 35.7            36.71540407\n",
       "36 36.8            37.78214545\n",
       "39 38.8            39.69581762\n",
       "42 40.5            41.34776447\n",
       "43 77.1            76.38302546\n",
       "44 70.5            70.47774845\n",
       "47 73.0            72.30587243\n",
       "48 68.1            67.60696160\n",
       "63 64.7            62.84676480\n",
       "74 47.9            50.26023676\n",
       "77 42.9            47.36749723\n",
       "79 52.3            52.44920031\n",
       "83 48.0            48.66455188\n",
       "84 46.9            47.70925974\n",
       "91 62.2            62.52481157\n",
       "95 69.4            67.97366880"
      ]
     },
     "metadata": {},
     "output_type": "display_data"
    }
   ],
   "source": [
    "#Result Comparison\n",
    "# First col is original data and Second col is predicted data\n",
    "\n",
    "data.frame(test0$efficency, efficency)"
   ]
  },
  {
   "cell_type": "code",
   "execution_count": 64,
   "metadata": {},
   "outputs": [
    {
     "data": {
      "text/html": [
       "<table>\n",
       "<thead><tr><th></th><th scope=col>test0.s11</th><th scope=col>s11</th></tr></thead>\n",
       "<tbody>\n",
       "\t<tr><th scope=row>7</th><td>30.335      </td><td>34.326100090</td></tr>\n",
       "\t<tr><th scope=row>12</th><td>30.375      </td><td>26.316022773</td></tr>\n",
       "\t<tr><th scope=row>28</th><td>38.298      </td><td>38.370294591</td></tr>\n",
       "\t<tr><th scope=row>32</th><td>33.134      </td><td>35.029240167</td></tr>\n",
       "\t<tr><th scope=row>34</th><td>32.047      </td><td>33.414787888</td></tr>\n",
       "\t<tr><th scope=row>36</th><td>31.449      </td><td>31.887819315</td></tr>\n",
       "\t<tr><th scope=row>39</th><td>31.083      </td><td>29.617846885</td></tr>\n",
       "\t<tr><th scope=row>42</th><td>31.174      </td><td>27.731095650</td></tr>\n",
       "\t<tr><th scope=row>43</th><td> 6.927      </td><td> 5.998597826</td></tr>\n",
       "\t<tr><th scope=row>44</th><td> 7.046      </td><td> 6.415354782</td></tr>\n",
       "\t<tr><th scope=row>47</th><td> 6.716      </td><td> 6.701986824</td></tr>\n",
       "\t<tr><th scope=row>48</th><td> 7.120      </td><td> 4.452879618</td></tr>\n",
       "\t<tr><th scope=row>63</th><td> 3.635      </td><td> 4.688054177</td></tr>\n",
       "\t<tr><th scope=row>74</th><td> 4.106      </td><td> 3.129934847</td></tr>\n",
       "\t<tr><th scope=row>77</th><td> 3.596      </td><td> 2.832548257</td></tr>\n",
       "\t<tr><th scope=row>79</th><td> 3.495      </td><td> 4.831603952</td></tr>\n",
       "\t<tr><th scope=row>83</th><td> 3.649      </td><td> 4.178290780</td></tr>\n",
       "\t<tr><th scope=row>84</th><td> 3.693      </td><td> 4.031086557</td></tr>\n",
       "\t<tr><th scope=row>91</th><td> 4.000      </td><td> 3.736820384</td></tr>\n",
       "\t<tr><th scope=row>95</th><td> 4.080      </td><td> 3.508766713</td></tr>\n",
       "</tbody>\n",
       "</table>\n"
      ],
      "text/latex": [
       "\\begin{tabular}{r|ll}\n",
       "  & test0.s11 & s11\\\\\n",
       "\\hline\n",
       "\t7 & 30.335       & 34.326100090\\\\\n",
       "\t12 & 30.375       & 26.316022773\\\\\n",
       "\t28 & 38.298       & 38.370294591\\\\\n",
       "\t32 & 33.134       & 35.029240167\\\\\n",
       "\t34 & 32.047       & 33.414787888\\\\\n",
       "\t36 & 31.449       & 31.887819315\\\\\n",
       "\t39 & 31.083       & 29.617846885\\\\\n",
       "\t42 & 31.174       & 27.731095650\\\\\n",
       "\t43 &  6.927       &  5.998597826\\\\\n",
       "\t44 &  7.046       &  6.415354782\\\\\n",
       "\t47 &  6.716       &  6.701986824\\\\\n",
       "\t48 &  7.120       &  4.452879618\\\\\n",
       "\t63 &  3.635       &  4.688054177\\\\\n",
       "\t74 &  4.106       &  3.129934847\\\\\n",
       "\t77 &  3.596       &  2.832548257\\\\\n",
       "\t79 &  3.495       &  4.831603952\\\\\n",
       "\t83 &  3.649       &  4.178290780\\\\\n",
       "\t84 &  3.693       &  4.031086557\\\\\n",
       "\t91 &  4.000       &  3.736820384\\\\\n",
       "\t95 &  4.080       &  3.508766713\\\\\n",
       "\\end{tabular}\n"
      ],
      "text/markdown": [
       "\n",
       "| <!--/--> | test0.s11 | s11 | \n",
       "|---|---|---|---|---|---|---|---|---|---|---|---|---|---|---|---|---|---|---|---|\n",
       "| 7 | 30.335       | 34.326100090 | \n",
       "| 12 | 30.375       | 26.316022773 | \n",
       "| 28 | 38.298       | 38.370294591 | \n",
       "| 32 | 33.134       | 35.029240167 | \n",
       "| 34 | 32.047       | 33.414787888 | \n",
       "| 36 | 31.449       | 31.887819315 | \n",
       "| 39 | 31.083       | 29.617846885 | \n",
       "| 42 | 31.174       | 27.731095650 | \n",
       "| 43 |  6.927       |  5.998597826 | \n",
       "| 44 |  7.046       |  6.415354782 | \n",
       "| 47 |  6.716       |  6.701986824 | \n",
       "| 48 |  7.120       |  4.452879618 | \n",
       "| 63 |  3.635       |  4.688054177 | \n",
       "| 74 |  4.106       |  3.129934847 | \n",
       "| 77 |  3.596       |  2.832548257 | \n",
       "| 79 |  3.495       |  4.831603952 | \n",
       "| 83 |  3.649       |  4.178290780 | \n",
       "| 84 |  3.693       |  4.031086557 | \n",
       "| 91 |  4.000       |  3.736820384 | \n",
       "| 95 |  4.080       |  3.508766713 | \n",
       "\n",
       "\n"
      ],
      "text/plain": [
       "   test0.s11 s11         \n",
       "7  30.335    34.326100090\n",
       "12 30.375    26.316022773\n",
       "28 38.298    38.370294591\n",
       "32 33.134    35.029240167\n",
       "34 32.047    33.414787888\n",
       "36 31.449    31.887819315\n",
       "39 31.083    29.617846885\n",
       "42 31.174    27.731095650\n",
       "43  6.927     5.998597826\n",
       "44  7.046     6.415354782\n",
       "47  6.716     6.701986824\n",
       "48  7.120     4.452879618\n",
       "63  3.635     4.688054177\n",
       "74  4.106     3.129934847\n",
       "77  3.596     2.832548257\n",
       "79  3.495     4.831603952\n",
       "83  3.649     4.178290780\n",
       "84  3.693     4.031086557\n",
       "91  4.000     3.736820384\n",
       "95  4.080     3.508766713"
      ]
     },
     "metadata": {},
     "output_type": "display_data"
    }
   ],
   "source": [
    "#Result Comparison\n",
    "# First col is original data and Second col is predicted data\n",
    "\n",
    "data.frame(test0$s11, s11)"
   ]
  },
  {
   "cell_type": "code",
   "execution_count": null,
   "metadata": {
    "collapsed": true
   },
   "outputs": [],
   "source": []
  }
 ],
 "metadata": {
  "kernelspec": {
   "display_name": "R",
   "language": "R",
   "name": "ir"
  },
  "language_info": {
   "codemirror_mode": "r",
   "file_extension": ".r",
   "mimetype": "text/x-r-source",
   "name": "R",
   "pygments_lexer": "r",
   "version": "3.4.2"
  }
 },
 "nbformat": 4,
 "nbformat_minor": 2
}
