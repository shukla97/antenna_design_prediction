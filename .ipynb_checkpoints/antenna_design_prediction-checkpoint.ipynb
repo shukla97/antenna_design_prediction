{
 "cells": [
  {
   "cell_type": "markdown",
   "metadata": {},
   "source": [
    "# Using Neural net to predic multiple output"
   ]
  },
  {
   "cell_type": "code",
   "execution_count": 1,
   "metadata": {},
   "outputs": [
    {
     "name": "stderr",
     "output_type": "stream",
     "text": [
      "Warning message:\n",
      "\"package 'neuralnet' was built under R version 3.4.3\""
     ]
    }
   ],
   "source": [
    "# Loading libraries\n",
    "\n",
    "library(neuralnet)\n",
    "library(caTools)\n",
    "set.seed(100)"
   ]
  },
  {
   "cell_type": "code",
   "execution_count": 2,
   "metadata": {
    "scrolled": true
   },
   "outputs": [
    {
     "data": {
      "text/plain": [
       "     design        epsilon            sh              w               l        \n",
       " Min.   : 1.0   Min.   :2.330   Min.   :1.000   Min.   :32.15   Min.   :27.68  \n",
       " 1st Qu.:25.5   1st Qu.:3.000   1st Qu.:1.240   1st Qu.:37.13   1st Qu.:29.25  \n",
       " Median :50.0   Median :3.000   Median :1.500   Median :38.22   Median :34.40  \n",
       " Mean   :50.0   Mean   :3.584   Mean   :1.502   Mean   :40.04   Mean   :33.66  \n",
       " 3rd Qu.:74.5   3rd Qu.:4.600   3rd Qu.:1.780   3rd Qu.:43.89   3rd Qu.:36.90  \n",
       " Max.   :99.0   Max.   :4.600   Max.   :2.000   Max.   :46.19   Max.   :43.00  \n",
       "      fpl              fpw             oof             bw       \n",
       " Min.   : 9.227   Min.   :16.07   Min.   :2253   Min.   :  0.0  \n",
       " 1st Qu.: 9.742   1st Qu.:18.56   1st Qu.:2318   1st Qu.:  4.0  \n",
       " Median :11.466   Median :19.11   Median :2362   Median : 78.0  \n",
       " Mean   :13.079   Mean   :20.02   Mean   :2371   Mean   :126.2  \n",
       " 3rd Qu.:12.300   3rd Qu.:21.95   3rd Qu.:2414   3rd Qu.:261.0  \n",
       " Max.   :28.660   Max.   :23.10   Max.   :2541   Max.   :289.0  \n",
       "      s11          directivity         gain         efficency    \n",
       " Min.   : 3.426   Min.   :6.086   Min.   :0.341   Min.   :26.60  \n",
       " 1st Qu.: 3.813   1st Qu.:6.167   1st Qu.:1.558   1st Qu.:34.55  \n",
       " Median : 6.927   Median :6.521   Median :3.306   Median :47.90  \n",
       " Mean   :17.203   Mean   :6.467   Mean   :3.139   Mean   :49.12  \n",
       " 3rd Qu.:31.212   3rd Qu.:6.579   3rd Qu.:4.702   3rd Qu.:64.85  \n",
       " Max.   :59.204   Max.   :7.905   Max.   :6.074   Max.   :79.10  "
      ]
     },
     "metadata": {},
     "output_type": "display_data"
    }
   ],
   "source": [
    "an <- read.csv(\"new_an.csv\")\n",
    "an <- subset(an, select = -c(X, cof))\n",
    "summary(an)"
   ]
  },
  {
   "cell_type": "code",
   "execution_count": 3,
   "metadata": {},
   "outputs": [
    {
     "ename": "ERROR",
     "evalue": "Error in sample.split(scaled$design, SplitRatio = 0.8): object 'scaled' not found\n",
     "output_type": "error",
     "traceback": [
      "Error in sample.split(scaled$design, SplitRatio = 0.8): object 'scaled' not found\nTraceback:\n",
      "1. sample.split(scaled$design, SplitRatio = 0.8)"
     ]
    }
   ],
   "source": [
    "# Train and test set for cross-check\n",
    "sample <- sample.split(scaled$design, SplitRatio = 0.80)\n",
    "train0 <- subset(an, sample == T)\n",
    "test0 <- subset(an, sample == F)\n",
    "dim(train0)\n",
    "dim(test0)"
   ]
  },
  {
   "cell_type": "code",
   "execution_count": null,
   "metadata": {
    "collapsed": true
   },
   "outputs": [],
   "source": [
    "# Scaling of data for Neural net\n",
    "\n",
    "max <- apply(an, 2, max)\n",
    "min <- apply(an, 2, min)\n",
    "scaled <- as.data.frame(scale(an, center = min, scale = max - min))"
   ]
  },
  {
   "cell_type": "code",
   "execution_count": null,
   "metadata": {},
   "outputs": [],
   "source": [
    "# Preparing training and testing set\n",
    "\n",
    "train <- subset(scaled, sample == T)\n",
    "test <- subset(scaled, sample == F)\n",
    "dim(train)\n",
    "dim(test)"
   ]
  },
  {
   "cell_type": "code",
   "execution_count": null,
   "metadata": {
    "collapsed": true
   },
   "outputs": [],
   "source": [
    "nn <- neuralnet(s11 + efficency ~ epsilon + sh+ w + l , data = train, hidden = 2, linear.output = T)"
   ]
  },
  {
   "cell_type": "code",
   "execution_count": null,
   "metadata": {
    "collapsed": true
   },
   "outputs": [],
   "source": [
    "#Predict using Neural Net\n",
    "predict_nn = compute(nn, test[,c(2:5)])"
   ]
  },
  {
   "cell_type": "code",
   "execution_count": null,
   "metadata": {
    "scrolled": true
   },
   "outputs": [],
   "source": [
    "# Unscaling s11 values\n",
    "s11 = (predict_nn$net.result[,1] * (max(an$s11) - min(an$s11))) + min(an$s11)\n",
    "\n",
    "par(mar=c(1,1,1,1))\n",
    "plot(test0$s11, s11, col='blue', pch=16, ylab = \"predicted rating NN\", xlab = \"real rating\")\n",
    "\n",
    "abline(0,1)"
   ]
  },
  {
   "cell_type": "code",
   "execution_count": null,
   "metadata": {},
   "outputs": [],
   "source": [
    "# Unscaling efficency value\n",
    "\n",
    "efficency = (predict_nn$net.result[,2] * (max(an$efficency) - min(an$efficency))) + min(an$efficency)\n",
    "\n",
    "par(mar=c(1,1,1,1))\n",
    "plot(test0$efficency, efficency, col='blue', pch=16, ylab = \"predicted rating NN\", xlab = \"real rating\")\n",
    "\n",
    "abline(0,1)"
   ]
  },
  {
   "cell_type": "code",
   "execution_count": null,
   "metadata": {},
   "outputs": [],
   "source": [
    "# Calculate Root Mean Square Error for s11\n",
    "rmse_s11 = (sum((test0$s11 - s11)^2) / nrow(test0)) ^ 0.5\n",
    "\n",
    "rmse_efficency = (sum((test0$efficency - efficency)^2) / nrow(test0)) ^ 0.5\n",
    "rmse_s11\n",
    "rmse_efficency"
   ]
  },
  {
   "cell_type": "code",
   "execution_count": null,
   "metadata": {},
   "outputs": [],
   "source": [
    "#Result Comparison\n",
    "# First col is original data and Second col is predicted data\n",
    "\n",
    "data.frame(test0$efficency, efficency)"
   ]
  },
  {
   "cell_type": "code",
   "execution_count": null,
   "metadata": {},
   "outputs": [],
   "source": [
    "#Result Comparison\n",
    "# First col is original data and Second col is predicted data\n",
    "\n",
    "data.frame(test0$s11, s11)"
   ]
  },
  {
   "cell_type": "code",
   "execution_count": null,
   "metadata": {
    "collapsed": true
   },
   "outputs": [],
   "source": []
  }
 ],
 "metadata": {
  "kernelspec": {
   "display_name": "R",
   "language": "R",
   "name": "ir"
  },
  "language_info": {
   "codemirror_mode": "r",
   "file_extension": ".r",
   "mimetype": "text/x-r-source",
   "name": "R",
   "pygments_lexer": "r",
   "version": "3.4.2"
  }
 },
 "nbformat": 4,
 "nbformat_minor": 2
}
